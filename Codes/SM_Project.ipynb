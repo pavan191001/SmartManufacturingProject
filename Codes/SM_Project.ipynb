{
  "cells": [
    {
      "cell_type": "markdown",
      "metadata": {
        "id": "QL56Q2ZDFHCR"
      },
      "source": [
        "# Water-Quality-Prediction"
      ]
    },
    {
      "cell_type": "markdown",
      "metadata": {
        "id": "Zya7slI_Gely"
      },
      "source": [
        "### Importing libraries"
      ]
    },
    {
      "cell_type": "code",
      "execution_count": 48,
      "metadata": {
        "id": "eKgcPStVFGb4"
      },
      "outputs": [],
      "source": [
        "import pandas as pd\n",
        "import matplotlib.pyplot as plt\n",
        "import seaborn as sns\n",
        "import numpy as np\n",
        "import datetime\n",
        "import random"
      ]
    },
    {
      "cell_type": "markdown",
      "metadata": {
        "id": "ieLVN3q_G4cV"
      },
      "source": [
        "### Importing datasets\n",
        "\n",
        "\n"
      ]
    },
    {
      "cell_type": "code",
      "source": [
        "from google.colab import drive\n",
        "drive.mount('/content/drive')"
      ],
      "metadata": {
        "id": "3ROrj3VnNz0r",
        "colab": {
          "base_uri": "https://localhost:8080/"
        },
        "outputId": "ddd44007-5dcd-44f7-fc24-e42c214b9299"
      },
      "execution_count": 3,
      "outputs": [
        {
          "output_type": "stream",
          "name": "stdout",
          "text": [
            "Mounted at /content/drive\n"
          ]
        }
      ]
    },
    {
      "cell_type": "code",
      "execution_count": 4,
      "metadata": {
        "id": "epXpKZAouZni",
        "colab": {
          "base_uri": "https://localhost:8080/",
          "height": 206
        },
        "outputId": "06cacd68-47d0-42e1-9d1f-cc9ba1867d21"
      },
      "outputs": [
        {
          "output_type": "execute_result",
          "data": {
            "text/plain": [
              "         ph  Turbidity  Potability\n",
              "0       NaN   2.963135           0\n",
              "1  3.716080   4.500656           0\n",
              "2  8.099124   3.055934           0\n",
              "3  8.316766   4.628771           0\n",
              "4  9.092223   4.075075           0"
            ],
            "text/html": [
              "\n",
              "  <div id=\"df-be3c8579-6e20-48a6-91ca-c97a08fb33e2\">\n",
              "    <div class=\"colab-df-container\">\n",
              "      <div>\n",
              "<style scoped>\n",
              "    .dataframe tbody tr th:only-of-type {\n",
              "        vertical-align: middle;\n",
              "    }\n",
              "\n",
              "    .dataframe tbody tr th {\n",
              "        vertical-align: top;\n",
              "    }\n",
              "\n",
              "    .dataframe thead th {\n",
              "        text-align: right;\n",
              "    }\n",
              "</style>\n",
              "<table border=\"1\" class=\"dataframe\">\n",
              "  <thead>\n",
              "    <tr style=\"text-align: right;\">\n",
              "      <th></th>\n",
              "      <th>ph</th>\n",
              "      <th>Turbidity</th>\n",
              "      <th>Potability</th>\n",
              "    </tr>\n",
              "  </thead>\n",
              "  <tbody>\n",
              "    <tr>\n",
              "      <th>0</th>\n",
              "      <td>NaN</td>\n",
              "      <td>2.963135</td>\n",
              "      <td>0</td>\n",
              "    </tr>\n",
              "    <tr>\n",
              "      <th>1</th>\n",
              "      <td>3.716080</td>\n",
              "      <td>4.500656</td>\n",
              "      <td>0</td>\n",
              "    </tr>\n",
              "    <tr>\n",
              "      <th>2</th>\n",
              "      <td>8.099124</td>\n",
              "      <td>3.055934</td>\n",
              "      <td>0</td>\n",
              "    </tr>\n",
              "    <tr>\n",
              "      <th>3</th>\n",
              "      <td>8.316766</td>\n",
              "      <td>4.628771</td>\n",
              "      <td>0</td>\n",
              "    </tr>\n",
              "    <tr>\n",
              "      <th>4</th>\n",
              "      <td>9.092223</td>\n",
              "      <td>4.075075</td>\n",
              "      <td>0</td>\n",
              "    </tr>\n",
              "  </tbody>\n",
              "</table>\n",
              "</div>\n",
              "      <button class=\"colab-df-convert\" onclick=\"convertToInteractive('df-be3c8579-6e20-48a6-91ca-c97a08fb33e2')\"\n",
              "              title=\"Convert this dataframe to an interactive table.\"\n",
              "              style=\"display:none;\">\n",
              "        \n",
              "  <svg xmlns=\"http://www.w3.org/2000/svg\" height=\"24px\"viewBox=\"0 0 24 24\"\n",
              "       width=\"24px\">\n",
              "    <path d=\"M0 0h24v24H0V0z\" fill=\"none\"/>\n",
              "    <path d=\"M18.56 5.44l.94 2.06.94-2.06 2.06-.94-2.06-.94-.94-2.06-.94 2.06-2.06.94zm-11 1L8.5 8.5l.94-2.06 2.06-.94-2.06-.94L8.5 2.5l-.94 2.06-2.06.94zm10 10l.94 2.06.94-2.06 2.06-.94-2.06-.94-.94-2.06-.94 2.06-2.06.94z\"/><path d=\"M17.41 7.96l-1.37-1.37c-.4-.4-.92-.59-1.43-.59-.52 0-1.04.2-1.43.59L10.3 9.45l-7.72 7.72c-.78.78-.78 2.05 0 2.83L4 21.41c.39.39.9.59 1.41.59.51 0 1.02-.2 1.41-.59l7.78-7.78 2.81-2.81c.8-.78.8-2.07 0-2.86zM5.41 20L4 18.59l7.72-7.72 1.47 1.35L5.41 20z\"/>\n",
              "  </svg>\n",
              "      </button>\n",
              "      \n",
              "  <style>\n",
              "    .colab-df-container {\n",
              "      display:flex;\n",
              "      flex-wrap:wrap;\n",
              "      gap: 12px;\n",
              "    }\n",
              "\n",
              "    .colab-df-convert {\n",
              "      background-color: #E8F0FE;\n",
              "      border: none;\n",
              "      border-radius: 50%;\n",
              "      cursor: pointer;\n",
              "      display: none;\n",
              "      fill: #1967D2;\n",
              "      height: 32px;\n",
              "      padding: 0 0 0 0;\n",
              "      width: 32px;\n",
              "    }\n",
              "\n",
              "    .colab-df-convert:hover {\n",
              "      background-color: #E2EBFA;\n",
              "      box-shadow: 0px 1px 2px rgba(60, 64, 67, 0.3), 0px 1px 3px 1px rgba(60, 64, 67, 0.15);\n",
              "      fill: #174EA6;\n",
              "    }\n",
              "\n",
              "    [theme=dark] .colab-df-convert {\n",
              "      background-color: #3B4455;\n",
              "      fill: #D2E3FC;\n",
              "    }\n",
              "\n",
              "    [theme=dark] .colab-df-convert:hover {\n",
              "      background-color: #434B5C;\n",
              "      box-shadow: 0px 1px 3px 1px rgba(0, 0, 0, 0.15);\n",
              "      filter: drop-shadow(0px 1px 2px rgba(0, 0, 0, 0.3));\n",
              "      fill: #FFFFFF;\n",
              "    }\n",
              "  </style>\n",
              "\n",
              "      <script>\n",
              "        const buttonEl =\n",
              "          document.querySelector('#df-be3c8579-6e20-48a6-91ca-c97a08fb33e2 button.colab-df-convert');\n",
              "        buttonEl.style.display =\n",
              "          google.colab.kernel.accessAllowed ? 'block' : 'none';\n",
              "\n",
              "        async function convertToInteractive(key) {\n",
              "          const element = document.querySelector('#df-be3c8579-6e20-48a6-91ca-c97a08fb33e2');\n",
              "          const dataTable =\n",
              "            await google.colab.kernel.invokeFunction('convertToInteractive',\n",
              "                                                     [key], {});\n",
              "          if (!dataTable) return;\n",
              "\n",
              "          const docLinkHtml = 'Like what you see? Visit the ' +\n",
              "            '<a target=\"_blank\" href=https://colab.research.google.com/notebooks/data_table.ipynb>data table notebook</a>'\n",
              "            + ' to learn more about interactive tables.';\n",
              "          element.innerHTML = '';\n",
              "          dataTable['output_type'] = 'display_data';\n",
              "          await google.colab.output.renderOutput(dataTable, element);\n",
              "          const docLink = document.createElement('div');\n",
              "          docLink.innerHTML = docLinkHtml;\n",
              "          element.appendChild(docLink);\n",
              "        }\n",
              "      </script>\n",
              "    </div>\n",
              "  </div>\n",
              "  "
            ]
          },
          "metadata": {},
          "execution_count": 4
        }
      ],
      "source": [
        "df=pd.read_csv(r'/content/drive/MyDrive/water_potability.csv')\n",
        "df.head()\n"
      ]
    },
    {
      "cell_type": "code",
      "execution_count": 5,
      "metadata": {
        "id": "B7zYiapdFi6h",
        "colab": {
          "base_uri": "https://localhost:8080/"
        },
        "outputId": "09ef3965-96b7-4534-f95b-737c6a512211"
      },
      "outputs": [
        {
          "output_type": "execute_result",
          "data": {
            "text/plain": [
              "(3276, 3)"
            ]
          },
          "metadata": {},
          "execution_count": 5
        }
      ],
      "source": [
        "df.shape #no.of (rows,columns) before cleaning"
      ]
    },
    {
      "cell_type": "markdown",
      "metadata": {
        "id": "FYCxOhz_FDvH"
      },
      "source": [
        "## Data Cleaning"
      ]
    },
    {
      "cell_type": "code",
      "execution_count": 6,
      "metadata": {
        "id": "fjFBOrSmFDUh",
        "colab": {
          "base_uri": "https://localhost:8080/"
        },
        "outputId": "60cd312c-8bbf-4d1b-96a3-da291bc5837f"
      },
      "outputs": [
        {
          "output_type": "stream",
          "name": "stdout",
          "text": [
            "<class 'pandas.core.frame.DataFrame'>\n",
            "RangeIndex: 3276 entries, 0 to 3275\n",
            "Data columns (total 3 columns):\n",
            " #   Column      Non-Null Count  Dtype  \n",
            "---  ------      --------------  -----  \n",
            " 0   ph          2785 non-null   float64\n",
            " 1   Turbidity   3276 non-null   float64\n",
            " 2   Potability  3276 non-null   int64  \n",
            "dtypes: float64(2), int64(1)\n",
            "memory usage: 76.9 KB\n"
          ]
        }
      ],
      "source": [
        "df.info()\n"
      ]
    },
    {
      "cell_type": "code",
      "execution_count": 7,
      "metadata": {
        "id": "e5BB_dwAGJee",
        "colab": {
          "base_uri": "https://localhost:8080/"
        },
        "outputId": "42ffccaf-082e-46fe-8b1f-a27e90cc068f"
      },
      "outputs": [
        {
          "output_type": "execute_result",
          "data": {
            "text/plain": [
              "ph            491\n",
              "Turbidity       0\n",
              "Potability      0\n",
              "dtype: int64"
            ]
          },
          "metadata": {},
          "execution_count": 7
        }
      ],
      "source": [
        "df.isnull().sum()\n"
      ]
    },
    {
      "cell_type": "code",
      "execution_count": 8,
      "metadata": {
        "id": "s9v5cDQd-yHq"
      },
      "outputs": [],
      "source": [
        "df.fillna(df.mean(),inplace = True)"
      ]
    },
    {
      "cell_type": "code",
      "execution_count": 9,
      "metadata": {
        "id": "Iva_5Tf6_9jG",
        "colab": {
          "base_uri": "https://localhost:8080/"
        },
        "outputId": "dc045c4f-5833-4815-9d9b-766df35020af"
      },
      "outputs": [
        {
          "output_type": "execute_result",
          "data": {
            "text/plain": [
              "ph            0\n",
              "Turbidity     0\n",
              "Potability    0\n",
              "dtype: int64"
            ]
          },
          "metadata": {},
          "execution_count": 9
        }
      ],
      "source": [
        "df.isnull().sum()"
      ]
    },
    {
      "cell_type": "markdown",
      "metadata": {
        "id": "DaRVDZUz93Vk"
      },
      "source": [
        "## Exploratory Data Analysis"
      ]
    },
    {
      "cell_type": "code",
      "execution_count": 10,
      "metadata": {
        "id": "CPck6sB0-ASs",
        "colab": {
          "base_uri": "https://localhost:8080/",
          "height": 300
        },
        "outputId": "59f51f8b-7d1e-4c89-ff07-a5b1760765d0"
      },
      "outputs": [
        {
          "output_type": "execute_result",
          "data": {
            "text/plain": [
              "                ph    Turbidity   Potability\n",
              "count  3276.000000  3276.000000  3276.000000\n",
              "mean      7.080795     3.966786     0.390110\n",
              "std       1.469956     0.780382     0.487849\n",
              "min       0.000000     1.450000     0.000000\n",
              "25%       6.277673     3.439711     0.000000\n",
              "50%       7.080795     3.955028     0.000000\n",
              "75%       7.870050     4.500320     1.000000\n",
              "max      14.000000     6.739000     1.000000"
            ],
            "text/html": [
              "\n",
              "  <div id=\"df-21e80240-8721-4350-9ae0-8030ec3cf7b9\">\n",
              "    <div class=\"colab-df-container\">\n",
              "      <div>\n",
              "<style scoped>\n",
              "    .dataframe tbody tr th:only-of-type {\n",
              "        vertical-align: middle;\n",
              "    }\n",
              "\n",
              "    .dataframe tbody tr th {\n",
              "        vertical-align: top;\n",
              "    }\n",
              "\n",
              "    .dataframe thead th {\n",
              "        text-align: right;\n",
              "    }\n",
              "</style>\n",
              "<table border=\"1\" class=\"dataframe\">\n",
              "  <thead>\n",
              "    <tr style=\"text-align: right;\">\n",
              "      <th></th>\n",
              "      <th>ph</th>\n",
              "      <th>Turbidity</th>\n",
              "      <th>Potability</th>\n",
              "    </tr>\n",
              "  </thead>\n",
              "  <tbody>\n",
              "    <tr>\n",
              "      <th>count</th>\n",
              "      <td>3276.000000</td>\n",
              "      <td>3276.000000</td>\n",
              "      <td>3276.000000</td>\n",
              "    </tr>\n",
              "    <tr>\n",
              "      <th>mean</th>\n",
              "      <td>7.080795</td>\n",
              "      <td>3.966786</td>\n",
              "      <td>0.390110</td>\n",
              "    </tr>\n",
              "    <tr>\n",
              "      <th>std</th>\n",
              "      <td>1.469956</td>\n",
              "      <td>0.780382</td>\n",
              "      <td>0.487849</td>\n",
              "    </tr>\n",
              "    <tr>\n",
              "      <th>min</th>\n",
              "      <td>0.000000</td>\n",
              "      <td>1.450000</td>\n",
              "      <td>0.000000</td>\n",
              "    </tr>\n",
              "    <tr>\n",
              "      <th>25%</th>\n",
              "      <td>6.277673</td>\n",
              "      <td>3.439711</td>\n",
              "      <td>0.000000</td>\n",
              "    </tr>\n",
              "    <tr>\n",
              "      <th>50%</th>\n",
              "      <td>7.080795</td>\n",
              "      <td>3.955028</td>\n",
              "      <td>0.000000</td>\n",
              "    </tr>\n",
              "    <tr>\n",
              "      <th>75%</th>\n",
              "      <td>7.870050</td>\n",
              "      <td>4.500320</td>\n",
              "      <td>1.000000</td>\n",
              "    </tr>\n",
              "    <tr>\n",
              "      <th>max</th>\n",
              "      <td>14.000000</td>\n",
              "      <td>6.739000</td>\n",
              "      <td>1.000000</td>\n",
              "    </tr>\n",
              "  </tbody>\n",
              "</table>\n",
              "</div>\n",
              "      <button class=\"colab-df-convert\" onclick=\"convertToInteractive('df-21e80240-8721-4350-9ae0-8030ec3cf7b9')\"\n",
              "              title=\"Convert this dataframe to an interactive table.\"\n",
              "              style=\"display:none;\">\n",
              "        \n",
              "  <svg xmlns=\"http://www.w3.org/2000/svg\" height=\"24px\"viewBox=\"0 0 24 24\"\n",
              "       width=\"24px\">\n",
              "    <path d=\"M0 0h24v24H0V0z\" fill=\"none\"/>\n",
              "    <path d=\"M18.56 5.44l.94 2.06.94-2.06 2.06-.94-2.06-.94-.94-2.06-.94 2.06-2.06.94zm-11 1L8.5 8.5l.94-2.06 2.06-.94-2.06-.94L8.5 2.5l-.94 2.06-2.06.94zm10 10l.94 2.06.94-2.06 2.06-.94-2.06-.94-.94-2.06-.94 2.06-2.06.94z\"/><path d=\"M17.41 7.96l-1.37-1.37c-.4-.4-.92-.59-1.43-.59-.52 0-1.04.2-1.43.59L10.3 9.45l-7.72 7.72c-.78.78-.78 2.05 0 2.83L4 21.41c.39.39.9.59 1.41.59.51 0 1.02-.2 1.41-.59l7.78-7.78 2.81-2.81c.8-.78.8-2.07 0-2.86zM5.41 20L4 18.59l7.72-7.72 1.47 1.35L5.41 20z\"/>\n",
              "  </svg>\n",
              "      </button>\n",
              "      \n",
              "  <style>\n",
              "    .colab-df-container {\n",
              "      display:flex;\n",
              "      flex-wrap:wrap;\n",
              "      gap: 12px;\n",
              "    }\n",
              "\n",
              "    .colab-df-convert {\n",
              "      background-color: #E8F0FE;\n",
              "      border: none;\n",
              "      border-radius: 50%;\n",
              "      cursor: pointer;\n",
              "      display: none;\n",
              "      fill: #1967D2;\n",
              "      height: 32px;\n",
              "      padding: 0 0 0 0;\n",
              "      width: 32px;\n",
              "    }\n",
              "\n",
              "    .colab-df-convert:hover {\n",
              "      background-color: #E2EBFA;\n",
              "      box-shadow: 0px 1px 2px rgba(60, 64, 67, 0.3), 0px 1px 3px 1px rgba(60, 64, 67, 0.15);\n",
              "      fill: #174EA6;\n",
              "    }\n",
              "\n",
              "    [theme=dark] .colab-df-convert {\n",
              "      background-color: #3B4455;\n",
              "      fill: #D2E3FC;\n",
              "    }\n",
              "\n",
              "    [theme=dark] .colab-df-convert:hover {\n",
              "      background-color: #434B5C;\n",
              "      box-shadow: 0px 1px 3px 1px rgba(0, 0, 0, 0.15);\n",
              "      filter: drop-shadow(0px 1px 2px rgba(0, 0, 0, 0.3));\n",
              "      fill: #FFFFFF;\n",
              "    }\n",
              "  </style>\n",
              "\n",
              "      <script>\n",
              "        const buttonEl =\n",
              "          document.querySelector('#df-21e80240-8721-4350-9ae0-8030ec3cf7b9 button.colab-df-convert');\n",
              "        buttonEl.style.display =\n",
              "          google.colab.kernel.accessAllowed ? 'block' : 'none';\n",
              "\n",
              "        async function convertToInteractive(key) {\n",
              "          const element = document.querySelector('#df-21e80240-8721-4350-9ae0-8030ec3cf7b9');\n",
              "          const dataTable =\n",
              "            await google.colab.kernel.invokeFunction('convertToInteractive',\n",
              "                                                     [key], {});\n",
              "          if (!dataTable) return;\n",
              "\n",
              "          const docLinkHtml = 'Like what you see? Visit the ' +\n",
              "            '<a target=\"_blank\" href=https://colab.research.google.com/notebooks/data_table.ipynb>data table notebook</a>'\n",
              "            + ' to learn more about interactive tables.';\n",
              "          element.innerHTML = '';\n",
              "          dataTable['output_type'] = 'display_data';\n",
              "          await google.colab.output.renderOutput(dataTable, element);\n",
              "          const docLink = document.createElement('div');\n",
              "          docLink.innerHTML = docLinkHtml;\n",
              "          element.appendChild(docLink);\n",
              "        }\n",
              "      </script>\n",
              "    </div>\n",
              "  </div>\n",
              "  "
            ]
          },
          "metadata": {},
          "execution_count": 10
        }
      ],
      "source": [
        "df.describe()"
      ]
    },
    {
      "cell_type": "code",
      "execution_count": 11,
      "metadata": {
        "id": "2E61DOv4_cmX",
        "colab": {
          "base_uri": "https://localhost:8080/",
          "height": 206
        },
        "outputId": "4fc0849f-c320-4686-c3dc-984f2bcbba64"
      },
      "outputs": [
        {
          "output_type": "execute_result",
          "data": {
            "text/plain": [
              "         ph  Turbidity  Potability\n",
              "0  7.080795   2.963135           0\n",
              "1  3.716080   4.500656           0\n",
              "2  8.099124   3.055934           0\n",
              "3  8.316766   4.628771           0\n",
              "4  9.092223   4.075075           0"
            ],
            "text/html": [
              "\n",
              "  <div id=\"df-501945fe-e4b9-4140-9494-ddaddf639e85\">\n",
              "    <div class=\"colab-df-container\">\n",
              "      <div>\n",
              "<style scoped>\n",
              "    .dataframe tbody tr th:only-of-type {\n",
              "        vertical-align: middle;\n",
              "    }\n",
              "\n",
              "    .dataframe tbody tr th {\n",
              "        vertical-align: top;\n",
              "    }\n",
              "\n",
              "    .dataframe thead th {\n",
              "        text-align: right;\n",
              "    }\n",
              "</style>\n",
              "<table border=\"1\" class=\"dataframe\">\n",
              "  <thead>\n",
              "    <tr style=\"text-align: right;\">\n",
              "      <th></th>\n",
              "      <th>ph</th>\n",
              "      <th>Turbidity</th>\n",
              "      <th>Potability</th>\n",
              "    </tr>\n",
              "  </thead>\n",
              "  <tbody>\n",
              "    <tr>\n",
              "      <th>0</th>\n",
              "      <td>7.080795</td>\n",
              "      <td>2.963135</td>\n",
              "      <td>0</td>\n",
              "    </tr>\n",
              "    <tr>\n",
              "      <th>1</th>\n",
              "      <td>3.716080</td>\n",
              "      <td>4.500656</td>\n",
              "      <td>0</td>\n",
              "    </tr>\n",
              "    <tr>\n",
              "      <th>2</th>\n",
              "      <td>8.099124</td>\n",
              "      <td>3.055934</td>\n",
              "      <td>0</td>\n",
              "    </tr>\n",
              "    <tr>\n",
              "      <th>3</th>\n",
              "      <td>8.316766</td>\n",
              "      <td>4.628771</td>\n",
              "      <td>0</td>\n",
              "    </tr>\n",
              "    <tr>\n",
              "      <th>4</th>\n",
              "      <td>9.092223</td>\n",
              "      <td>4.075075</td>\n",
              "      <td>0</td>\n",
              "    </tr>\n",
              "  </tbody>\n",
              "</table>\n",
              "</div>\n",
              "      <button class=\"colab-df-convert\" onclick=\"convertToInteractive('df-501945fe-e4b9-4140-9494-ddaddf639e85')\"\n",
              "              title=\"Convert this dataframe to an interactive table.\"\n",
              "              style=\"display:none;\">\n",
              "        \n",
              "  <svg xmlns=\"http://www.w3.org/2000/svg\" height=\"24px\"viewBox=\"0 0 24 24\"\n",
              "       width=\"24px\">\n",
              "    <path d=\"M0 0h24v24H0V0z\" fill=\"none\"/>\n",
              "    <path d=\"M18.56 5.44l.94 2.06.94-2.06 2.06-.94-2.06-.94-.94-2.06-.94 2.06-2.06.94zm-11 1L8.5 8.5l.94-2.06 2.06-.94-2.06-.94L8.5 2.5l-.94 2.06-2.06.94zm10 10l.94 2.06.94-2.06 2.06-.94-2.06-.94-.94-2.06-.94 2.06-2.06.94z\"/><path d=\"M17.41 7.96l-1.37-1.37c-.4-.4-.92-.59-1.43-.59-.52 0-1.04.2-1.43.59L10.3 9.45l-7.72 7.72c-.78.78-.78 2.05 0 2.83L4 21.41c.39.39.9.59 1.41.59.51 0 1.02-.2 1.41-.59l7.78-7.78 2.81-2.81c.8-.78.8-2.07 0-2.86zM5.41 20L4 18.59l7.72-7.72 1.47 1.35L5.41 20z\"/>\n",
              "  </svg>\n",
              "      </button>\n",
              "      \n",
              "  <style>\n",
              "    .colab-df-container {\n",
              "      display:flex;\n",
              "      flex-wrap:wrap;\n",
              "      gap: 12px;\n",
              "    }\n",
              "\n",
              "    .colab-df-convert {\n",
              "      background-color: #E8F0FE;\n",
              "      border: none;\n",
              "      border-radius: 50%;\n",
              "      cursor: pointer;\n",
              "      display: none;\n",
              "      fill: #1967D2;\n",
              "      height: 32px;\n",
              "      padding: 0 0 0 0;\n",
              "      width: 32px;\n",
              "    }\n",
              "\n",
              "    .colab-df-convert:hover {\n",
              "      background-color: #E2EBFA;\n",
              "      box-shadow: 0px 1px 2px rgba(60, 64, 67, 0.3), 0px 1px 3px 1px rgba(60, 64, 67, 0.15);\n",
              "      fill: #174EA6;\n",
              "    }\n",
              "\n",
              "    [theme=dark] .colab-df-convert {\n",
              "      background-color: #3B4455;\n",
              "      fill: #D2E3FC;\n",
              "    }\n",
              "\n",
              "    [theme=dark] .colab-df-convert:hover {\n",
              "      background-color: #434B5C;\n",
              "      box-shadow: 0px 1px 3px 1px rgba(0, 0, 0, 0.15);\n",
              "      filter: drop-shadow(0px 1px 2px rgba(0, 0, 0, 0.3));\n",
              "      fill: #FFFFFF;\n",
              "    }\n",
              "  </style>\n",
              "\n",
              "      <script>\n",
              "        const buttonEl =\n",
              "          document.querySelector('#df-501945fe-e4b9-4140-9494-ddaddf639e85 button.colab-df-convert');\n",
              "        buttonEl.style.display =\n",
              "          google.colab.kernel.accessAllowed ? 'block' : 'none';\n",
              "\n",
              "        async function convertToInteractive(key) {\n",
              "          const element = document.querySelector('#df-501945fe-e4b9-4140-9494-ddaddf639e85');\n",
              "          const dataTable =\n",
              "            await google.colab.kernel.invokeFunction('convertToInteractive',\n",
              "                                                     [key], {});\n",
              "          if (!dataTable) return;\n",
              "\n",
              "          const docLinkHtml = 'Like what you see? Visit the ' +\n",
              "            '<a target=\"_blank\" href=https://colab.research.google.com/notebooks/data_table.ipynb>data table notebook</a>'\n",
              "            + ' to learn more about interactive tables.';\n",
              "          element.innerHTML = '';\n",
              "          dataTable['output_type'] = 'display_data';\n",
              "          await google.colab.output.renderOutput(dataTable, element);\n",
              "          const docLink = document.createElement('div');\n",
              "          docLink.innerHTML = docLinkHtml;\n",
              "          element.appendChild(docLink);\n",
              "        }\n",
              "      </script>\n",
              "    </div>\n",
              "  </div>\n",
              "  "
            ]
          },
          "metadata": {},
          "execution_count": 11
        }
      ],
      "source": [
        "df.head()\n"
      ]
    },
    {
      "cell_type": "code",
      "execution_count": 12,
      "metadata": {
        "id": "zUriptXFCqND",
        "colab": {
          "base_uri": "https://localhost:8080/",
          "height": 374
        },
        "outputId": "2a20d9f7-36a0-4450-dfd2-74798d6fa304"
      },
      "outputs": [
        {
          "output_type": "display_data",
          "data": {
            "text/plain": [
              "<Figure size 936x432 with 1 Axes>"
            ],
            "image/png": "[encoded data removed]"
          },
          "metadata": {
            "needs_background": "light"
          }
        }
      ],
      "source": [
        "df.boxplot(figsize=(13,6))\n",
        "plt.show()"
      ]
    },
    {
      "cell_type": "code",
      "execution_count": 13,
      "metadata": {
        "id": "JBLLLnO9LWjC",
        "colab": {
          "base_uri": "https://localhost:8080/",
          "height": 262
        },
        "outputId": "3e713898-2ed1-401c-fec4-118e4c69ce44"
      },
      "outputs": [
        {
          "output_type": "display_data",
          "data": {
            "text/plain": [
              "<Figure size 432x288 with 1 Axes>"
            ],
            "image/png": "[encoded data removed]"
          },
          "metadata": {
            "needs_background": "light"
          }
        }
      ],
      "source": [
        "df.Potability.value_counts().plot(kind=\"bar\", color=[\"brown\", \"salmon\"])\n",
        "plt.show()\n"
      ]
    },
    {
      "cell_type": "code",
      "execution_count": 14,
      "metadata": {
        "id": "eFuU1RdaL9pB",
        "colab": {
          "base_uri": "https://localhost:8080/",
          "height": 825
        },
        "outputId": "e813762b-3223-4d53-ca2b-4c32bd80f04d"
      },
      "outputs": [
        {
          "output_type": "display_data",
          "data": {
            "text/plain": [
              "<Figure size 1008x1008 with 4 Axes>"
            ],
            "image/png": "[encoded data removed]"
          },
          "metadata": {
            "needs_background": "light"
          }
        }
      ],
      "source": [
        "df.hist(figsize=(14,14))\n",
        "plt.show()\n"
      ]
    },
    {
      "cell_type": "code",
      "execution_count": 15,
      "metadata": {
        "id": "RFsYw0FBOU0d",
        "colab": {
          "base_uri": "https://localhost:8080/",
          "height": 283
        },
        "outputId": "d96e3c01-a550-4254-adb1-771cd84fcb11"
      },
      "outputs": [
        {
          "output_type": "display_data",
          "data": {
            "text/plain": [
              "<Figure size 432x288 with 1 Axes>"
            ],
            "image/png": "[encoded data removed]"
          },
          "metadata": {
            "needs_background": "light"
          }
        }
      ],
      "source": [
        "sns.scatterplot(x=df['ph'] , hue=df['Potability'] , y=df['Turbidity'])\n",
        "plt.show()"
      ]
    },
    {
      "cell_type": "code",
      "source": [
        "# create a correlation heatmap\n",
        "sns.heatmap(df.corr(),annot=True, cmap='terrain', linewidths=0.1)\n",
        "fig=plt.gcf()\n",
        "fig.set_size_inches(8,6)\n",
        "plt.show()\n"
      ],
      "metadata": {
        "id": "w1J1bNaBATu-",
        "colab": {
          "base_uri": "https://localhost:8080/",
          "height": 378
        },
        "outputId": "a4d4abc0-e5a9-4686-c252-f9f964ef5e6d"
      },
      "execution_count": 16,
      "outputs": [
        {
          "output_type": "display_data",
          "data": {
            "text/plain": [
              "<Figure size 576x432 with 2 Axes>"
            ],
            "image/png": "[encoded data removed]"
          },
          "metadata": {
            "needs_background": "light"
          }
        }
      ]
    },
    {
      "cell_type": "markdown",
      "metadata": {
        "id": "YM0KhbMiv_1o"
      },
      "source": [
        "##Partitioning"
      ]
    },
    {
      "cell_type": "code",
      "execution_count": 17,
      "metadata": {
        "id": "hcowc9pcwFMa"
      },
      "outputs": [],
      "source": [
        "X = df.drop('Potability',axis=1) #Input variables\n"
      ]
    },
    {
      "cell_type": "code",
      "execution_count": 18,
      "metadata": {
        "id": "n0vDDYYdwV2h"
      },
      "outputs": [],
      "source": [
        "Y= df['Potability'] #Target variables\n"
      ]
    },
    {
      "cell_type": "code",
      "execution_count": 19,
      "metadata": {
        "id": "2Cpj4bYFwtAu"
      },
      "outputs": [],
      "source": [
        "from sklearn.model_selection import train_test_split\n",
        "X_train, X_test, Y_train, Y_test = train_test_split(X,Y, test_size= 0.2, random_state=101,shuffle=True)\n"
      ]
    },
    {
      "cell_type": "code",
      "execution_count": 20,
      "metadata": {
        "id": "8VIwOrIgxLH_",
        "colab": {
          "base_uri": "https://localhost:8080/"
        },
        "outputId": "8bb45cae-7fae-40c2-a31d-22b1fd90aea5"
      },
      "outputs": [
        {
          "output_type": "execute_result",
          "data": {
            "text/plain": [
              "0    1596\n",
              "1    1024\n",
              "Name: Potability, dtype: int64"
            ]
          },
          "metadata": {},
          "execution_count": 20
        }
      ],
      "source": [
        "Y_train.value_counts()\n"
      ]
    },
    {
      "cell_type": "code",
      "execution_count": 21,
      "metadata": {
        "id": "OsDnT4FYxbnQ",
        "colab": {
          "base_uri": "https://localhost:8080/"
        },
        "outputId": "3bdbc3f3-fec8-43f4-89bf-6733dbca9667"
      },
      "outputs": [
        {
          "output_type": "execute_result",
          "data": {
            "text/plain": [
              "0    402\n",
              "1    254\n",
              "Name: Potability, dtype: int64"
            ]
          },
          "metadata": {},
          "execution_count": 21
        }
      ],
      "source": [
        "Y_test.value_counts()\n"
      ]
    },
    {
      "cell_type": "code",
      "execution_count": 22,
      "metadata": {
        "id": "RuKAW2LbyM3P",
        "colab": {
          "base_uri": "https://localhost:8080/"
        },
        "outputId": "43fe19f1-06f2-4f15-fecb-483c4b0bee1d"
      },
      "outputs": [
        {
          "output_type": "execute_result",
          "data": {
            "text/plain": [
              "ph         Turbidity\n",
              "0.975578   2.533996     1\n",
              "7.494391   3.579652     1\n",
              "7.464485   3.880576     1\n",
              "7.466558   4.991675     1\n",
              "7.468617   3.384179     1\n",
              "                       ..\n",
              "6.664003   2.227728     1\n",
              "6.665774   4.903553     1\n",
              "6.669532   1.964863     1\n",
              "6.676137   4.336648     1\n",
              "13.541240  3.529191     1\n",
              "Length: 2620, dtype: int64"
            ]
          },
          "metadata": {},
          "execution_count": 22
        }
      ],
      "source": [
        "X_train.value_counts()"
      ]
    },
    {
      "cell_type": "code",
      "execution_count": 23,
      "metadata": {
        "id": "UA8JqtZfyXpq",
        "colab": {
          "base_uri": "https://localhost:8080/"
        },
        "outputId": "bcb89fcf-a8e9-4c0a-e809-f9edea023fdf"
      },
      "outputs": [
        {
          "output_type": "execute_result",
          "data": {
            "text/plain": [
              "ph         Turbidity\n",
              "0.000000   4.928840     1\n",
              "7.369912   3.821721     1\n",
              "7.377037   4.531659     1\n",
              "7.381758   3.338022     1\n",
              "7.392084   3.778458     1\n",
              "                       ..\n",
              "6.630364   3.490588     1\n",
              "6.632032   3.386294     1\n",
              "6.632206   3.443741     1\n",
              "6.635894   4.523237     1\n",
              "14.000000  3.170994     1\n",
              "Length: 656, dtype: int64"
            ]
          },
          "metadata": {},
          "execution_count": 23
        }
      ],
      "source": [
        "X_test.value_counts()"
      ]
    },
    {
      "cell_type": "markdown",
      "metadata": {
        "id": "2eF4GtEiufng"
      },
      "source": [
        "# Model Training"
      ]
    },
    {
      "cell_type": "markdown",
      "metadata": {
        "id": "FGK7mXAmuxIq"
      },
      "source": [
        "## Algorithm 1:-Decision Tree"
      ]
    },
    {
      "cell_type": "code",
      "execution_count": 24,
      "metadata": {
        "id": "7aygVyQIuctM",
        "colab": {
          "base_uri": "https://localhost:8080/"
        },
        "outputId": "168caf32-df54-476c-c8ef-562f27bc38f4"
      },
      "outputs": [
        {
          "output_type": "execute_result",
          "data": {
            "text/plain": [
              "DecisionTreeClassifier(min_samples_split=100)"
            ]
          },
          "metadata": {},
          "execution_count": 24
        }
      ],
      "source": [
        "from sklearn.tree import DecisionTreeClassifier\n",
        "dt=DecisionTreeClassifier(criterion= 'gini', min_samples_split= 100, splitter= 'best')\n",
        "dt.fit(X_train.values,Y_train)\n"
      ]
    },
    {
      "cell_type": "code",
      "execution_count": 25,
      "metadata": {
        "id": "EYMI2U78zFx8"
      },
      "outputs": [],
      "source": [
        "Y_prediction=dt.predict(X_test.values)"
      ]
    },
    {
      "cell_type": "code",
      "execution_count": 26,
      "metadata": {
        "id": "lEvx4hu0zfCh"
      },
      "outputs": [],
      "source": [
        "from sklearn.metrics import accuracy_score,confusion_matrix"
      ]
    },
    {
      "cell_type": "code",
      "execution_count": 27,
      "metadata": {
        "id": "odi5w3STzr-d",
        "colab": {
          "base_uri": "https://localhost:8080/"
        },
        "outputId": "6d3392f6-5828-4cb8-b124-3aed8862b849"
      },
      "outputs": [
        {
          "output_type": "execute_result",
          "data": {
            "text/plain": [
              "56.09756097560976"
            ]
          },
          "metadata": {},
          "execution_count": 27
        }
      ],
      "source": [
        "accuracy_score(Y_prediction,Y_test)*100"
      ]
    },
    {
      "cell_type": "code",
      "execution_count": 28,
      "metadata": {
        "id": "bRdBt89s1Azr",
        "colab": {
          "base_uri": "https://localhost:8080/"
        },
        "outputId": "f32f3c84-8db9-4531-c12e-3af12beff400"
      },
      "outputs": [
        {
          "output_type": "execute_result",
          "data": {
            "text/plain": [
              "array([[308, 194],\n",
              "       [ 94,  60]])"
            ]
          },
          "metadata": {},
          "execution_count": 28
        }
      ],
      "source": [
        "confusion_matrix(Y_prediction,Y_test)"
      ]
    },
    {
      "cell_type": "code",
      "execution_count": 29,
      "metadata": {
        "id": "2NQ4h9u_2V2H",
        "colab": {
          "base_uri": "https://localhost:8080/"
        },
        "outputId": "6b08f0a9-f0a8-48cc-b53c-8c609fc4df07"
      },
      "outputs": [
        {
          "output_type": "execute_result",
          "data": {
            "text/plain": [
              "(656,)"
            ]
          },
          "metadata": {},
          "execution_count": 29
        }
      ],
      "source": [
        "Y_test.shape"
      ]
    },
    {
      "cell_type": "markdown",
      "metadata": {
        "id": "fmdgdmkp4sOf"
      },
      "source": [
        "## Algorithm-2:KNN"
      ]
    },
    {
      "cell_type": "code",
      "execution_count": 30,
      "metadata": {
        "id": "W9wJ9co74zVv"
      },
      "outputs": [],
      "source": [
        "from sklearn.neighbors import KNeighborsClassifier\n"
      ]
    },
    {
      "cell_type": "code",
      "execution_count": 31,
      "metadata": {
        "id": "7RXjzXf242Oj",
        "colab": {
          "base_uri": "https://localhost:8080/"
        },
        "outputId": "812bcbaf-4a1b-410a-b128-c5eaae916e62"
      },
      "outputs": [
        {
          "output_type": "execute_result",
          "data": {
            "text/plain": [
              "KNeighborsClassifier(metric='manhattan', n_neighbors=22)"
            ]
          },
          "metadata": {},
          "execution_count": 31
        }
      ],
      "source": [
        "knn=KNeighborsClassifier(metric='manhattan', n_neighbors=22)\n",
        "knn.fit(X_train.values,Y_train)\n"
      ]
    },
    {
      "cell_type": "code",
      "execution_count": 32,
      "metadata": {
        "id": "w0MNHSDQ48pv",
        "colab": {
          "base_uri": "https://localhost:8080/"
        },
        "outputId": "dfdd2636-ded4-49de-f517-1fba26e38fac"
      },
      "outputs": [
        {
          "output_type": "stream",
          "name": "stdout",
          "text": [
            "accuracy_score score     :  61.12804878048781 %\n"
          ]
        }
      ],
      "source": [
        "prediction_knn=knn.predict(X_test.values)\n",
        "accuracy_knn=accuracy_score(Y_test,prediction_knn)*100\n",
        "print('accuracy_score score     : ',accuracy_score(Y_test,prediction_knn)*100,'%')\n"
      ]
    },
    {
      "cell_type": "code",
      "execution_count": 33,
      "metadata": {
        "id": "6x75Iwip5Apg",
        "colab": {
          "base_uri": "https://localhost:8080/"
        },
        "outputId": "bf7b0da1-18a1-4244-d659-4e7b2e4c4a51"
      },
      "outputs": [
        {
          "output_type": "execute_result",
          "data": {
            "text/plain": [
              "array([[308, 194],\n",
              "       [ 94,  60]])"
            ]
          },
          "metadata": {},
          "execution_count": 33
        }
      ],
      "source": [
        "confusion_matrix(Y_prediction,Y_test)\n"
      ]
    },
    {
      "cell_type": "markdown",
      "metadata": {
        "id": "2qEbmlGC5v7p"
      },
      "source": [
        "# Chemicals"
      ]
    },
    {
      "cell_type": "code",
      "execution_count": 34,
      "metadata": {
        "id": "bVO0xEHVBrML"
      },
      "outputs": [],
      "source": [
        "def chemical(a,b):\n",
        "  if(a<6):\n",
        "    potability=\"Water is Not portable and Add NaOH for the water body to make it potable\"\n",
        "    return potability\n",
        "  if((a>=6 and a<=8) and (b>=5)):\n",
        "    potability=\"The water is not potable and Add polycrylamide which is a common type of polymeric flocculant that has been successful in reducing sediment erosion and Turbidity\"\n",
        "    return potability\n",
        "  if(a>8):\n",
        "    potability=\"Water is Not portable and Add Mild Acdic Substance like lime stone\"\n",
        "    return potability\n",
        "  if(b>100):\n",
        "    potability=\"Water is Not portable and Add Chlorine to the water body\"\n",
        "    return potability\n",
        "  if((a>=6 and a<=8) and (b<=5)):\n",
        "    potability=\"The Water is Potable\"\n",
        "    return potability"
      ]
    },
    {
      "cell_type": "markdown",
      "source": [
        "# Input Data\n"
      ],
      "metadata": {
        "id": "vlhIHsFHAWyN"
      }
    },
    {
      "cell_type": "code",
      "execution_count": 35,
      "metadata": {
        "id": "Qnm1yiKza9Yj",
        "colab": {
          "base_uri": "https://localhost:8080/"
        },
        "outputId": "28a5226e-df6d-4315-8743-bab378faef47"
      },
      "outputs": [
        {
          "output_type": "stream",
          "name": "stdout",
          "text": [
            "4.0\n",
            "3.24\n"
          ]
        }
      ],
      "source": [
        "ph=round(random.uniform(0,14),2)\n",
        "tbt=round(random.uniform(0,10),2)\n",
        "print(ph)\n",
        "print(tbt)"
      ]
    },
    {
      "cell_type": "code",
      "execution_count": 36,
      "metadata": {
        "id": "cXgxxDxJ5qPl",
        "colab": {
          "base_uri": "https://localhost:8080/"
        },
        "outputId": "b8b1bf76-f661-46ac-b353-6275bfdfcc9f"
      },
      "outputs": [
        {
          "output_type": "stream",
          "name": "stdout",
          "text": [
            "Water is Not portable and Add NaOH for the water body to make it potable\n"
          ]
        }
      ],
      "source": [
        "X_DT=dt.predict([[ph,tbt]])\n",
        "result = chemical(ph,tbt)\n",
        "print(result)"
      ]
    },
    {
      "cell_type": "markdown",
      "source": [
        "## Giving random 10 days to predict 30days ahead (Shoud give sensor data here for turbidity)"
      ],
      "metadata": {
        "id": "os1Su5R5EF_t"
      }
    },
    {
      "cell_type": "code",
      "source": [
        "ph_pred = []\n",
        "ph_pred.append(ph)\n",
        "for i in range(0,9):\n",
        "    ph=ph+round(random.uniform(-0.5,0.5),2)\n",
        "    ph_pred.append(ph)\n",
        "    \n",
        "print(ph_pred)"
      ],
      "metadata": {
        "id": "2SNg5be4S4rg",
        "colab": {
          "base_uri": "https://localhost:8080/"
        },
        "outputId": "45908e06-6ff6-49d7-cf2c-c6eac118f48a"
      },
      "execution_count": 37,
      "outputs": [
        {
          "output_type": "stream",
          "name": "stdout",
          "text": [
            "[4.0, 4.25, 4.3, 4.25, 4.35, 4.47, 4.22, 3.82, 4.29, 3.97]\n"
          ]
        }
      ]
    },
    {
      "cell_type": "code",
      "source": [
        "tbt_pred = []\n",
        "tbt_pred.append(tbt)\n",
        "\n",
        "for i in range(0,9):\n",
        "    tbt=tbt+round(random.randint(-2,2),2)\n",
        "    if(tbt<0):\n",
        "      tbt=0\n",
        "    tbt_pred.append(tbt)\n",
        "    \n",
        "print(tbt_pred)"
      ],
      "metadata": {
        "colab": {
          "base_uri": "https://localhost:8080/"
        },
        "id": "7KalXR2KEf-c",
        "outputId": "0e458f77-cd1b-4fb4-a22d-ba71b2ee1763"
      },
      "execution_count": 38,
      "outputs": [
        {
          "output_type": "stream",
          "name": "stdout",
          "text": [
            "[3.24, 3.24, 3.24, 5.24, 7.24, 9.24, 8.24, 8.24, 6.24, 6.24]\n"
          ]
        }
      ]
    },
    {
      "cell_type": "markdown",
      "source": [
        "\n",
        "# 30Days ahead prediction"
      ],
      "metadata": {
        "id": "xcGpvg2hFRCf"
      }
    },
    {
      "cell_type": "code",
      "source": [
        "def average(arr,j,n):\n",
        "  sum=0\n",
        "  for i in range(j,n):\n",
        "    sum=sum+arr[i]\n",
        "  avg=sum/n\n",
        "  return avg"
      ],
      "metadata": {
        "id": "sRMkJQrFSVG6"
      },
      "execution_count": 39,
      "outputs": []
    },
    {
      "cell_type": "code",
      "source": [
        "prediction_ph = []\n",
        "idx=0\n",
        "for i in range(0,30):\n",
        "  avg = average(ph_pred,idx,len(ph_pred))\n",
        "  ph_pred.append(avg)\n",
        "  prediction_ph.append(avg)\n",
        "  idx=idx+1\n",
        "print(prediction_ph)"
      ],
      "metadata": {
        "colab": {
          "base_uri": "https://localhost:8080/"
        },
        "id": "c67tVwEGTB4g",
        "outputId": "bf4a83a4-869b-4fdc-fb0b-6f69ec5612ea"
      },
      "execution_count": 40,
      "outputs": [
        {
          "output_type": "stream",
          "name": "stdout",
          "text": [
            "[4.191999999999999, 3.828363636363636, 3.4741969696969695, 3.1434277389277385, 2.83985631035631, 2.5498563103563106, 2.27048131035631, 2.0222460162386633, 1.8100237940164408, 1.5842343203322304, 1.3857343203322305, 1.1861152727131827, 1.0120987437875633, 0.8610467016268252, 0.7300705458381694, 0.6164762934239171, 0.5184048968717513, 0.4343129964881842, 0.3620899244796605, 0.2996753108928867, 0.2468675002151457, 0.20216639310765436, 0.16510029083536745, 0.13443063193271396, 0.10910572894368974, 0.08824657049117061, 0.07112222900717291, 0.05711128584847691, 0.04568199646720891, 0.036397639429268894]\n"
          ]
        }
      ]
    },
    {
      "cell_type": "code",
      "source": [
        "prediction_ph = []\n",
        "for i in range(0,30):\n",
        "    a=sum(ph_pred[len(ph_pred)-10+i:])+ sum(prediction_ph)\n",
        "    b=a/10\n",
        "    if(b>14):\n",
        "        b=14\n",
        "    prediction_ph.append(b)\n",
        "print(prediction_ph)"
      ],
      "metadata": {
        "colab": {
          "base_uri": "https://localhost:8080/"
        },
        "id": "yuTDKLntEpcw",
        "outputId": "0ec15b5c-e350-48c0-e2bd-e0988a47ed9f"
      },
      "execution_count": 42,
      "outputs": [
        {
          "output_type": "stream",
          "name": "stdout",
          "text": [
            "[0.11562302662778692, 0.10249857926905107, 0.09253179788519075, 0.08527494859017307, 0.08035938025591897, 0.0774847453871419, 0.07640856287673903, 0.07693719626369563, 0.07891978730521751, 0.08224356638901838, 0.08682815908499333, 0.09551097499349266, 0.10506207249284191, 0.1155682797421261, 0.12712510771633873, 0.13983761848797258, 0.15382138033676984, 0.16920351837044684, 0.1861238702074915, 0.20473625722824065, 0.2252098829510647, 0.24773087124617116, 0.2725039583707883, 0.2997543542078671, 0.32972978962865385, 0.36270276859151923, 0.39897304545067114, 0.43887034999573826, 0.48275738499531207, 0.5310331234948433]\n"
          ]
        }
      ]
    },
    {
      "cell_type": "code",
      "source": [
        "prediction_tbt = []\n",
        "for i in range(0,30):\n",
        "    a=sum(tbt_pred[len(tbt_pred)-10+i:])+ sum(prediction_tbt)\n",
        "    b=a/10\n",
        "    if(b>14):\n",
        "        b=14\n",
        "    prediction_tbt.append(b)\n",
        "print(prediction_tbt)"
      ],
      "metadata": {
        "id": "PlMs_fbVFtPi",
        "colab": {
          "base_uri": "https://localhost:8080/"
        },
        "outputId": "d2509bf2-a4a5-4754-8599-31ffe43528b9"
      },
      "execution_count": 43,
      "outputs": [
        {
          "output_type": "stream",
          "name": "stdout",
          "text": [
            "[6.040000000000001, 6.320000000000001, 6.628000000000002, 6.966800000000001, 7.139480000000001, 7.129428000000002, 6.918370800000001, 6.786207880000001, 6.640828668, 6.680911534800001, 6.72500268828, 7.397502957108, 8.1372532528188, 8.95097857810068, 9.846076435910748, 10.830684079501822, 11.913752487452005, 13.105127736197204, 14, 14, 14, 14, 14, 14, 14, 14, 14, 14, 14, 14]\n"
          ]
        }
      ]
    },
    {
      "cell_type": "code",
      "source": [
        "X_DT=dt.predict([[prediction_ph[-1],prediction_tbt[-1]]])\n",
        "result=chemical(prediction_ph[-1],prediction_tbt[-1])\n",
        "print(result)\n",
        "print(prediction_ph[-1])\n",
        "print(prediction_tbt[-1])"
      ],
      "metadata": {
        "colab": {
          "base_uri": "https://localhost:8080/"
        },
        "id": "faWLt-huC3OL",
        "outputId": "83e12c2d-6526-49c8-e6a2-1cabe82ab833"
      },
      "execution_count": 46,
      "outputs": [
        {
          "output_type": "stream",
          "name": "stdout",
          "text": [
            "Water is Not portable and Add NaOH for the water body to make it potable\n",
            "0.5310331234948433\n",
            "14\n"
          ]
        }
      ]
    },
    {
      "cell_type": "markdown",
      "source": [
        "# APP"
      ],
      "metadata": {
        "id": "5O6In8FNMVMs"
      }
    },
    {
      "cell_type": "code",
      "source": [
        "!pip install flask-ngrok "
      ],
      "metadata": {
        "id": "qwtRb0JfDLD6",
        "colab": {
          "base_uri": "https://localhost:8080/"
        },
        "outputId": "41a51104-437e-4efd-d993-213d9aaa352f"
      },
      "execution_count": 47,
      "outputs": [
        {
          "output_type": "stream",
          "name": "stdout",
          "text": [
            "Requirement already satisfied: flask-ngrok in /usr/local/lib/python3.7/dist-packages (0.0.25)\n",
            "Requirement already satisfied: Flask>=0.8 in /usr/local/lib/python3.7/dist-packages (from flask-ngrok) (1.1.4)\n",
            "Requirement already satisfied: requests in /usr/local/lib/python3.7/dist-packages (from flask-ngrok) (2.23.0)\n",
            "Requirement already satisfied: Werkzeug<2.0,>=0.15 in /usr/local/lib/python3.7/dist-packages (from Flask>=0.8->flask-ngrok) (1.0.1)\n",
            "Requirement already satisfied: click<8.0,>=5.1 in /usr/local/lib/python3.7/dist-packages (from Flask>=0.8->flask-ngrok) (7.1.2)\n",
            "Requirement already satisfied: Jinja2<3.0,>=2.10.1 in /usr/local/lib/python3.7/dist-packages (from Flask>=0.8->flask-ngrok) (2.11.3)\n",
            "Requirement already satisfied: itsdangerous<2.0,>=0.24 in /usr/local/lib/python3.7/dist-packages (from Flask>=0.8->flask-ngrok) (1.1.0)\n",
            "Requirement already satisfied: MarkupSafe>=0.23 in /usr/local/lib/python3.7/dist-packages (from Jinja2<3.0,>=2.10.1->Flask>=0.8->flask-ngrok) (2.0.1)\n",
            "Requirement already satisfied: urllib3!=1.25.0,!=1.25.1,<1.26,>=1.21.1 in /usr/local/lib/python3.7/dist-packages (from requests->flask-ngrok) (1.24.3)\n",
            "Requirement already satisfied: chardet<4,>=3.0.2 in /usr/local/lib/python3.7/dist-packages (from requests->flask-ngrok) (3.0.4)\n",
            "Requirement already satisfied: idna<3,>=2.5 in /usr/local/lib/python3.7/dist-packages (from requests->flask-ngrok) (2.10)\n",
            "Requirement already satisfied: certifi>=2017.4.17 in /usr/local/lib/python3.7/dist-packages (from requests->flask-ngrok) (2021.10.8)\n"
          ]
        }
      ]
    },
    {
      "cell_type": "code",
      "source": [
        "from flask_ngrok import run_with_ngrok\n",
        "from flask import Flask,jsonify\n",
        "app =Flask(__name__)\n",
        "run_with_ngrok(app) #starts ngrok when the app is running\n",
        "@app.route(\"/<float:pH>/<float:Turbidity>\")\n",
        "def home(pH,Turbidity):\n",
        "  print(pH)\n",
        "  print(Turbidity)\n",
        "  res = chemical(pH,Turbidity)\n",
        "  print(res)\n",
        "  result = {\"Prediction for next 30 days\":res}\n",
        "  return jsonify(result)\n",
        "app.run()"
      ],
      "metadata": {
        "colab": {
          "base_uri": "https://localhost:8080/"
        },
        "id": "nZ-LcK8U6pUD",
        "outputId": "318aee64-d58f-45a7-a226-276e407fe772"
      },
      "execution_count": null,
      "outputs": [
        {
          "output_type": "stream",
          "name": "stdout",
          "text": [
            " * Serving Flask app \"__main__\" (lazy loading)\n",
            " * Environment: production\n",
            "\u001b[31m   WARNING: This is a development server. Do not use it in a production deployment.\u001b[0m\n",
            "\u001b[2m   Use a production WSGI server instead.\u001b[0m\n",
            " * Debug mode: off\n"
          ]
        },
        {
          "output_type": "stream",
          "name": "stderr",
          "text": [
            " * Running on http://127.0.0.1:5000/ (Press CTRL+C to quit)\n"
          ]
        },
        {
          "output_type": "stream",
          "name": "stdout",
          "text": [
            " * Running on http://5a8b-34-125-116-53.ngrok.io\n",
            " * Traffic stats available on http://127.0.0.1:4040\n"
          ]
        },
        {
          "output_type": "stream",
          "name": "stderr",
          "text": [
            "127.0.0.1 - - [26/Apr/2022 17:43:17] \"\u001b[33mGET / HTTP/1.1\u001b[0m\" 404 -\n",
            "127.0.0.1 - - [26/Apr/2022 17:44:18] \"\u001b[37mGET /11.2/3.4 HTTP/1.1\u001b[0m\" 200 -\n"
          ]
        },
        {
          "output_type": "stream",
          "name": "stdout",
          "text": [
            "11.2\n",
            "3.4\n",
            "Water is Not portable and Add Mild Acdic Substance like lime stone\n"
          ]
        },
        {
          "output_type": "stream",
          "name": "stderr",
          "text": [
            "127.0.0.1 - - [26/Apr/2022 17:44:18] \"\u001b[33mGET /favicon.ico HTTP/1.1\u001b[0m\" 404 -\n",
            "127.0.0.1 - - [26/Apr/2022 17:47:03] \"\u001b[37mGET /11.2/7.4 HTTP/1.1\u001b[0m\" 200 -\n"
          ]
        },
        {
          "output_type": "stream",
          "name": "stdout",
          "text": [
            "11.2\n",
            "7.4\n",
            "Water is Not portable and Add Mild Acdic Substance like lime stone\n"
          ]
        },
        {
          "output_type": "stream",
          "name": "stderr",
          "text": [
            "127.0.0.1 - - [26/Apr/2022 17:47:16] \"\u001b[37mGET /11.2/7.4 HTTP/1.1\u001b[0m\" 200 -\n"
          ]
        },
        {
          "output_type": "stream",
          "name": "stdout",
          "text": [
            "11.2\n",
            "7.4\n",
            "Water is Not portable and Add Mild Acdic Substance like lime stone\n"
          ]
        },
        {
          "output_type": "stream",
          "name": "stderr",
          "text": [
            "127.0.0.1 - - [26/Apr/2022 17:47:24] \"\u001b[37mGET /8.5/1.2 HTTP/1.1\u001b[0m\" 200 -\n"
          ]
        },
        {
          "output_type": "stream",
          "name": "stdout",
          "text": [
            "8.5\n",
            "1.2\n",
            "Water is Not portable and Add Mild Acdic Substance like lime stone\n"
          ]
        },
        {
          "output_type": "stream",
          "name": "stderr",
          "text": [
            "127.0.0.1 - - [26/Apr/2022 17:47:27] \"\u001b[37mGET /8.5/1.2 HTTP/1.1\u001b[0m\" 200 -\n"
          ]
        },
        {
          "output_type": "stream",
          "name": "stdout",
          "text": [
            "8.5\n",
            "1.2\n",
            "Water is Not portable and Add Mild Acdic Substance like lime stone\n"
          ]
        },
        {
          "output_type": "stream",
          "name": "stderr",
          "text": [
            "127.0.0.1 - - [26/Apr/2022 17:47:34] \"\u001b[37mGET /6.7/1.2 HTTP/1.1\u001b[0m\" 200 -\n"
          ]
        },
        {
          "output_type": "stream",
          "name": "stdout",
          "text": [
            "6.7\n",
            "1.2\n",
            "The Water is Potable\n"
          ]
        },
        {
          "output_type": "stream",
          "name": "stderr",
          "text": [
            "127.0.0.1 - - [26/Apr/2022 18:10:18] \"\u001b[37mGET /6.6/3.5 HTTP/1.1\u001b[0m\" 200 -\n"
          ]
        },
        {
          "output_type": "stream",
          "name": "stdout",
          "text": [
            "6.6\n",
            "3.5\n",
            "The Water is Potable\n"
          ]
        },
        {
          "output_type": "stream",
          "name": "stderr",
          "text": [
            "127.0.0.1 - - [26/Apr/2022 18:10:30] \"\u001b[33mGET /12/8.7 HTTP/1.1\u001b[0m\" 404 -\n",
            "127.0.0.1 - - [26/Apr/2022 18:10:40] \"\u001b[33mGET /12/9.7 HTTP/1.1\u001b[0m\" 404 -\n",
            "127.0.0.1 - - [26/Apr/2022 18:10:46] \"\u001b[33mGET /3/9.7 HTTP/1.1\u001b[0m\" 404 -\n",
            "127.0.0.1 - - [26/Apr/2022 18:11:25] \"\u001b[37mGET /6.7/3.4 HTTP/1.1\u001b[0m\" 200 -\n"
          ]
        },
        {
          "output_type": "stream",
          "name": "stdout",
          "text": [
            "6.7\n",
            "3.4\n",
            "The Water is Potable\n"
          ]
        },
        {
          "output_type": "stream",
          "name": "stderr",
          "text": [
            "127.0.0.1 - - [26/Apr/2022 18:12:15] \"\u001b[37mGET /11.2/2.2 HTTP/1.1\u001b[0m\" 200 -\n"
          ]
        },
        {
          "output_type": "stream",
          "name": "stdout",
          "text": [
            "11.2\n",
            "2.2\n",
            "Water is Not portable and Add Mild Acdic Substance like lime stone\n"
          ]
        },
        {
          "output_type": "stream",
          "name": "stderr",
          "text": [
            "127.0.0.1 - - [26/Apr/2022 18:12:24] \"\u001b[37mGET /11.2/2.2 HTTP/1.1\u001b[0m\" 200 -\n"
          ]
        },
        {
          "output_type": "stream",
          "name": "stdout",
          "text": [
            "11.2\n",
            "2.2\n",
            "Water is Not portable and Add Mild Acdic Substance like lime stone\n"
          ]
        },
        {
          "output_type": "stream",
          "name": "stderr",
          "text": [
            "127.0.0.1 - - [26/Apr/2022 18:12:25] \"\u001b[33mGET /favicon.ico HTTP/1.1\u001b[0m\" 404 -\n",
            "127.0.0.1 - - [26/Apr/2022 18:12:43] \"\u001b[37mGET /6.7/3.4 HTTP/1.1\u001b[0m\" 200 -\n"
          ]
        },
        {
          "output_type": "stream",
          "name": "stdout",
          "text": [
            "6.7\n",
            "3.4\n",
            "The Water is Potable\n"
          ]
        },
        {
          "output_type": "stream",
          "name": "stderr",
          "text": [
            "127.0.0.1 - - [26/Apr/2022 18:12:47] \"\u001b[33mGET /6.7/10 HTTP/1.1\u001b[0m\" 404 -\n",
            "127.0.0.1 - - [26/Apr/2022 18:14:09] \"\u001b[37mGET /3.1/2.1 HTTP/1.1\u001b[0m\" 200 -\n"
          ]
        },
        {
          "output_type": "stream",
          "name": "stdout",
          "text": [
            "3.1\n",
            "2.1\n",
            "Water is Not portable and Add NaOH for the water body to make it potable\n"
          ]
        },
        {
          "output_type": "stream",
          "name": "stderr",
          "text": [
            "127.0.0.1 - - [26/Apr/2022 18:14:59] \"\u001b[37mGET /6.7/3.2 HTTP/1.1\u001b[0m\" 200 -\n"
          ]
        },
        {
          "output_type": "stream",
          "name": "stdout",
          "text": [
            "6.7\n",
            "3.2\n",
            "The Water is Potable\n"
          ]
        },
        {
          "output_type": "stream",
          "name": "stderr",
          "text": [
            "127.0.0.1 - - [26/Apr/2022 18:15:12] \"\u001b[37mGET /6.7/3.2 HTTP/1.1\u001b[0m\" 200 -\n"
          ]
        },
        {
          "output_type": "stream",
          "name": "stdout",
          "text": [
            "6.7\n",
            "3.2\n",
            "The Water is Potable\n"
          ]
        },
        {
          "output_type": "stream",
          "name": "stderr",
          "text": [
            "127.0.0.1 - - [26/Apr/2022 18:20:31] \"\u001b[33mGET /13/12 HTTP/1.1\u001b[0m\" 404 -\n",
            "127.0.0.1 - - [26/Apr/2022 18:20:43] \"\u001b[33mGET /11/7 HTTP/1.1\u001b[0m\" 404 -\n",
            "127.0.0.1 - - [26/Apr/2022 18:22:43] \"\u001b[33mGET /11/3.4 HTTP/1.1\u001b[0m\" 404 -\n"
          ]
        }
      ]
    },
    {
      "cell_type": "code",
      "source": [
        ""
      ],
      "metadata": {
        "id": "hPJRxFv9kMxR"
      },
      "execution_count": null,
      "outputs": []
    }
  ],
  "metadata": {
    "colab": {
      "collapsed_sections": [],
      "name": "SM_project.ipynb",
      "provenance": []
    },
    "kernelspec": {
      "display_name": "Python 3",
      "name": "python3"
    },
    "language_info": {
      "name": "python"
    }
  },
  "nbformat": 4,
  "nbformat_minor": 0
}